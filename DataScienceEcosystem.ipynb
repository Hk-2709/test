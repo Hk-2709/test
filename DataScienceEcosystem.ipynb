{
 "cells": [
  {
   "cell_type": "markdown",
   "id": "6662aa05-e8aa-4b0f-be7c-9fd2fa263d52",
   "metadata": {
    "panel-layout": {
     "height": 51.1375,
     "visible": true,
     "width": 100
    }
   },
   "source": [
    "# Data Science Tools and Ecosystem"
   ]
  },
  {
   "cell_type": "markdown",
   "id": "057273c1-3213-4337-b587-40098afede64",
   "metadata": {
    "panel-layout": {
     "height": 51.1375,
     "visible": true,
     "width": 100
    }
   },
   "source": [
    "In this notebook, Data Science Tools and Ecosystem are summarized."
   ]
  },
  {
   "cell_type": "markdown",
   "id": "75098814-5e73-4853-88f6-57bd1016405c",
   "metadata": {
    "panel-layout": {
     "height": 114.55,
     "visible": true,
     "width": 100
    }
   },
   "source": [
    "Some of the popular languages that Data Scientists use are:\n",
    "1) Python\n",
    "2) R\n",
    "3) SOL"
   ]
  },
  {
   "cell_type": "markdown",
   "id": "6538cdd7-985b-43ff-b056-c393c4b2f9e4",
   "metadata": {
    "panel-layout": {
     "height": 114.55,
     "visible": true,
     "width": 100
    }
   },
   "source": [
    "Some of the commonly used libraries used by Data Scientists include:\n",
    "1) NumPy\n",
    "2) Panda\n",
    "3) SciPy"
   ]
  },
  {
   "cell_type": "markdown",
   "id": "08076efa-79b1-43cf-8635-35a8c5ed3a96",
   "metadata": {
    "panel-layout": {
     "height": 68.275,
     "visible": true,
     "width": 100
    }
   },
   "source": [
    "Data Science Tools\n",
    "    \n",
    "    | programming languages |  libraries | machine learning |\n",
    "    | Python | NumPy | TensorFlow |     \n",
    "    | R |  SciPy | PyTorch |"
   ]
  },
  {
   "cell_type": "markdown",
   "id": "8d560889-f66f-4eb9-b3d4-d6879d1740c3",
   "metadata": {
    "panel-layout": {
     "height": 51.1375,
     "visible": true,
     "width": 100
    }
   },
   "source": [
    "### Below are a few examples of evaluating arithmetic expressions in Python"
   ]
  },
  {
   "cell_type": "code",
   "execution_count": 4,
   "id": "7ef2f882-0707-4d6b-a2a6-12ef5734f2bb",
   "metadata": {},
   "outputs": [
    {
     "data": {
      "text/plain": [
       "17"
      ]
     },
     "execution_count": 4,
     "metadata": {},
     "output_type": "execute_result"
    }
   ],
   "source": [
    "(3*4)+5"
   ]
  },
  {
   "cell_type": "code",
   "execution_count": 5,
   "id": "086fe12a-4ee6-43d1-a677-14711e027579",
   "metadata": {},
   "outputs": [
    {
     "name": "stdout",
     "output_type": "stream",
     "text": [
      "3 hours and 20 minutes\n"
     ]
    }
   ],
   "source": [
    "hours = 200 // 60\n",
    "minutes = 200 % 60\n",
    "print(f\"{hours} hours and {minutes} minutes\")"
   ]
  },
  {
   "cell_type": "markdown",
   "id": "8962ffda-e4bc-4267-977f-5fb0b8138f73",
   "metadata": {},
   "source": [
    "Objectives:\n",
    "-List popular languages for Data Science\n",
    "-arithmetic operations\n"
   ]
  },
  {
   "cell_type": "markdown",
   "id": "50365060-eb33-478a-9b7b-a341fb5039f6",
   "metadata": {},
   "source": [
    "## Author\n",
    "Hariesh Kumaar M"
   ]
  },
  {
   "cell_type": "code",
   "execution_count": null,
   "id": "d9dc9aa4-a89c-40a4-8158-d5323e22f3de",
   "metadata": {},
   "outputs": [],
   "source": []
  }
 ],
 "metadata": {
  "kernelspec": {
   "display_name": "Python 3 (ipykernel)",
   "language": "python",
   "name": "python3"
  },
  "language_info": {
   "codemirror_mode": {
    "name": "ipython",
    "version": 3
   },
   "file_extension": ".py",
   "mimetype": "text/x-python",
   "name": "python",
   "nbconvert_exporter": "python",
   "pygments_lexer": "ipython3",
   "version": "3.13.5"
  },
  "panel-cell-order": [
   "6662aa05-e8aa-4b0f-be7c-9fd2fa263d52",
   "057273c1-3213-4337-b587-40098afede64",
   "75098814-5e73-4853-88f6-57bd1016405c",
   "6538cdd7-985b-43ff-b056-c393c4b2f9e4",
   "0acd0063-2ad7-4c91-8eee-24eeace2cc01",
   "8d560889-f66f-4eb9-b3d4-d6879d1740c3"
  ]
 },
 "nbformat": 4,
 "nbformat_minor": 5
}
